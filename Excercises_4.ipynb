{
 "cells": [
  {
   "cell_type": "markdown",
   "metadata": {},
   "source": [
    "# Разработка классификатора новостей\n",
    "\n",
    "**Нужно:**\n",
    "* выбрать какой-либо новостной ресурс, где к новостям привязаны категории или метки (например http://lenta.ru, http://fontanka.ru, http://gazeta.ru)\n",
    "* загрузить новости по некоторому набору (5-10) категорий за пару лет\n",
    "* обучить классификатор на эти новостях\n",
    "* продемонстрировать его работу, разработав простеший web-интерфейс (вариант - telegram-бот), куда пользователь вводит текст новости и на выходе получает наиболее вероятную категорию. В качестве фреймворка проще всего взять [Flask](http://flask.pocoo.org) (см. примеры) ."
   ]
  },
  {
   "cell_type": "code",
   "execution_count": 20,
   "metadata": {
    "collapsed": true
   },
   "outputs": [],
   "source": [
    "import lxml.html\n",
    "import lxml.etree\n",
    "import requests\n",
    "import pymorphy2\n",
    "from tqdm import tqdm"
   ]
  },
  {
   "cell_type": "code",
   "execution_count": 21,
   "metadata": {
    "collapsed": false
   },
   "outputs": [],
   "source": [
    "def parse_category_by_url(url):\n",
    "    response = requests.get(url)\n",
    "    if (response.status_code == 200):\n",
    "        res = []\n",
    "        tree = lxml.html.fromstring(response.text)\n",
    "        links = tree.xpath('//div[contains(@class, \"big_center ml30 fll\")]//td[contains(@class, \"dom\")]')\n",
    "        for link in links:\n",
    "            try:\n",
    "                formed_link = form_url_by_suburl(link.getchildren()[0].get(\"href\"))                \n",
    "                res.append(formed_link)\n",
    "            except:\n",
    "                pass\n",
    "        return res\n",
    "        \n",
    "    return []"
   ]
  },
  {
   "cell_type": "code",
   "execution_count": 22,
   "metadata": {
    "collapsed": false
   },
   "outputs": [],
   "source": [
    "def parse_news_on_page(url):\n",
    "    response = requests.get(url)\n",
    "    if (response.status_code == 200):\n",
    "        res = []\n",
    "        tree = lxml.html.fromstring(response.text)\n",
    "        links = tree.xpath('//div[contains(@class, \"calendar-list\")]//div[contains(@class, \"calendar-item-title\")]')\n",
    "        for link in links:\n",
    "            try:\n",
    "                formed_link = form_url_by_suburl(link.getchildren()[0].get(\"href\"))\n",
    "                if len(formed_link)>0:\n",
    "                    res.append(formed_link)\n",
    "            except:\n",
    "                pass\n",
    "        return res\n",
    "    return []"
   ]
  },
  {
   "cell_type": "code",
   "execution_count": 23,
   "metadata": {
    "collapsed": true
   },
   "outputs": [],
   "source": [
    "def form_url_by_suburl(suburl):\n",
    "    if suburl[0] == '/':\n",
    "        return 'http://www.fontanka.ru' + suburl\n",
    "    return ''"
   ]
  },
  {
   "cell_type": "code",
   "execution_count": 30,
   "metadata": {
    "collapsed": false
   },
   "outputs": [],
   "source": [
    "def get_content(url):\n",
    "    response = requests.get(url)\n",
    "    if (response.status_code == 200):        \n",
    "        analyzer = pymorphy2.MorphAnalyzer()\n",
    "        #words_from_query = {analyzer.normal_forms(x)[0] for x in query.split(' ')}\n",
    "        tree = lxml.html.fromstring(response.text)\n",
    "        text = tree.xpath('//div[contains(@class, \"article_fulltext\")]')\n",
    "        arttitle = tree.xpath('//h1[contains(@class, \"article_title\")]')\n",
    "        try:\n",
    "            title = arttitle[0].text_content()\n",
    "            #print(text[0].text_content())\n",
    "            res = ''.join(text[0].text_content().replace('\\t', ' ').replace('\\n', ' ').splitlines())\n",
    "        except:\n",
    "            title = ''\n",
    "            res = ['']\n",
    "    return (title, res)"
   ]
  },
  {
   "cell_type": "code",
   "execution_count": 32,
   "metadata": {
    "collapsed": false
   },
   "outputs": [
    {
     "name": "stderr",
     "output_type": "stream",
     "text": [
      "100%|████████████████████████████████████████████████████████████████████████████████| 301/301 [05:53<00:00,  1.18s/it]\n"
     ]
    }
   ],
   "source": [
    "def save_cat_in_file(url, filename):\n",
    "    day_links = parse_category_by_url(url)\n",
    "    f = open(filename, 'w')\n",
    "    for day_link in tqdm(day_links):\n",
    "        news_links = parse_news_on_page(day_link)\n",
    "        for news_link in news_links:\n",
    "            (title, text) = get_content(news_link)\n",
    "            try:\n",
    "                f.write(f\"{title}\\t{text}\\n\")\n",
    "            except:\n",
    "                pass\n",
    "    f.close()\n",
    "            \n",
    "save_cat_in_file('http://www.fontanka.ru/business/arc/2017/all.html', 'buis.txt')"
   ]
  },
  {
   "cell_type": "code",
   "execution_count": null,
   "metadata": {
    "collapsed": false
   },
   "outputs": [],
   "source": []
  }
 ],
 "metadata": {
  "kernelspec": {
   "display_name": "Python 3",
   "language": "python",
   "name": "python3"
  },
  "language_info": {
   "codemirror_mode": {
    "name": "ipython",
    "version": 3
   },
   "file_extension": ".py",
   "mimetype": "text/x-python",
   "name": "python",
   "nbconvert_exporter": "python",
   "pygments_lexer": "ipython3",
   "version": "3.6.0"
  }
 },
 "nbformat": 4,
 "nbformat_minor": 1
}
