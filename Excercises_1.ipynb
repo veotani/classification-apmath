{
 "cells": [
  {
   "cell_type": "markdown",
   "metadata": {},
   "source": [
    "# Задание 1 готово\n",
    "\n",
    "[Свертка списка](https://ru.wikipedia.org/wiki/%D0%A1%D0%B2%D1%91%D1%80%D1%82%D0%BA%D0%B0_%D1%81%D0%BF%D0%B8%D1%81%D0%BA%D0%B0) -  это обобщенная операция над списком, c помощью которой можно преобразовать список в единое значение. Например рассмотрим реализации свертки слева и свертки справа (левоассоциативную свертку и правоассоциативную свертку):"
   ]
  },
  {
   "cell_type": "code",
   "execution_count": 18,
   "metadata": {
    "collapsed": true
   },
   "outputs": [],
   "source": [
    "def foldl(f, x0, lst):\n",
    "    if not lst:\n",
    "        return x0\n",
    "    return foldl(f, f(x0, lst[0]), lst[1:])\n",
    "\n",
    "def foldr(f, x0, lst):\n",
    "    if not lst:\n",
    "        return x0\n",
    "    return f(lst[0], foldr(f, x0, lst[1:]))"
   ]
  },
  {
   "cell_type": "code",
   "execution_count": 36,
   "metadata": {},
   "outputs": [
    {
     "data": {
      "text/plain": [
       "True"
      ]
     },
     "execution_count": 36,
     "metadata": {},
     "output_type": "execute_result"
    }
   ],
   "source": [
    "#сумма\n",
    "foldl(lambda x, y: x + y, 0, [1, 2, 3]) == foldl2(lambda x, y: x + y, 0, [1, 2, 3])"
   ]
  },
  {
   "cell_type": "code",
   "execution_count": 35,
   "metadata": {},
   "outputs": [
    {
     "data": {
      "text/plain": [
       "True"
      ]
     },
     "execution_count": 35,
     "metadata": {},
     "output_type": "execute_result"
    }
   ],
   "source": [
    "#конкатенация\n",
    "foldl(lambda x, y: '{}{}'.format(x, y), '', [1, 2, 3]) == foldl2(lambda x, y: '{}{}'.format(x, y), '', [1, 2, 3])"
   ]
  },
  {
   "cell_type": "code",
   "execution_count": 34,
   "metadata": {},
   "outputs": [
    {
     "data": {
      "text/plain": [
       "(True, True)"
      ]
     },
     "execution_count": 34,
     "metadata": {},
     "output_type": "execute_result"
    }
   ],
   "source": [
    "f = lambda x, y: x / y\n",
    "foldl(f, 1, [1, 2, 3]) == foldl2(f, 1, [1, 2, 3]), foldr(f, 1, [1, 2, 3]) == foldr2(f, 1, [1, 2, 3])"
   ]
  },
  {
   "cell_type": "markdown",
   "metadata": {},
   "source": [
    "Задача: реализовать foldl через foldr и наоборот. Вместо многоточий нужно вставить выражения, которые бы привели к нужному результату."
   ]
  },
  {
   "cell_type": "code",
   "execution_count": 22,
   "metadata": {},
   "outputs": [
    {
     "data": {
      "text/plain": [
       "True"
      ]
     },
     "execution_count": 22,
     "metadata": {},
     "output_type": "execute_result"
    }
   ],
   "source": [
    "def foldl2(f, x0, lst):\n",
    "    return foldr(lambda  x,y: lambda z: y(f(z,x)) , lambda x: x, lst)(x0)\n",
    "\n",
    "foldl2(f, 1, [1,2,3])\n",
    "#test\n",
    "foldl2(lambda x, y: x / y, 8, [2, 4, 8]) == foldl(lambda x, y: x / y, 8, [2, 4, 8])"
   ]
  },
  {
   "cell_type": "code",
   "execution_count": 61,
   "metadata": {},
   "outputs": [
    {
     "name": "stdout",
     "output_type": "stream",
     "text": [
      "True\n",
      "True\n",
      "True\n",
      "True\n"
     ]
    }
   ],
   "source": [
    "def foldr2(f, x0, lst):\n",
    "    return foldl(lambda x,y: lambda z: x(f(y, z)), lambda x: x, lst)(x0)\n",
    "\n",
    "#тесты\n",
    "\n",
    "#сумма\n",
    "print(foldr(lambda x, y: x + y, 0, [1, 2, 3]) == foldr2(lambda x, y: x + y, 0, [1, 2, 3]))\n",
    "\n",
    "#конкатенация\n",
    "print(foldr(lambda x, y: '{}{}'.format(x, y), '', [1, 2, 3]) == foldr2(lambda x, y: '{}{}'.format(x, y), '', [1, 2, 3]))\n",
    "\n",
    "#деление\n",
    "f = lambda x, y: x / y\n",
    "print(foldr(f, 1, [1, 2, 3]) == foldr2(f, 1, [1, 2, 3]))\n",
    "\n",
    "#то, на чём у меня всё завалилось\n",
    "f = lambda x, y: '(%s, %s)' % (x, y)\n",
    "print(foldr(f, 1, [1, 2, 3]) == foldr2(f, 1, [1, 2, 3]))\n",
    "\n"
   ]
  },
  {
   "cell_type": "markdown",
   "metadata": {},
   "source": [
    "# Задание 2 готово\n",
    "\n",
    "нужно написать функцию, которая принимает две строки и проверяет, входит ли хотя бы одна перестановка второй строки в первую. Например:\n",
    "\n",
    "> a = 'abcrotm'\n",
    "> \n",
    "> b = 'tro'\n",
    "\n",
    "функция def check_inv(a, b) вернет True, так как 'rot' содержится в 'abcrotm'. Нужно подумать как можно более оптимальный алгоритм и оценить его сложность. "
   ]
  },
  {
   "cell_type": "code",
   "execution_count": 96,
   "metadata": {
    "collapsed": true
   },
   "outputs": [],
   "source": [
    "def check_inv(a, b):\n",
    "    b_dict = dict()\n",
    "    b_dict_zeros = dict()\n",
    "    for letter in b:\n",
    "        if letter in b_dict:\n",
    "            b_dict[letter] = b_dict[letter] + 1\n",
    "        else:\n",
    "            b_dict[letter] = 1\n",
    "            b_dict_zeros[letter] = 0\n",
    "    for letter_number in range(len(a)-len(b)+1):\n",
    "        if a[letter_number] in b_dict:\n",
    "            b_dict_temp = b_dict.copy()\n",
    "            b_dict_temp[a[letter_number]] = b_dict_temp[a[letter_number]] - 1\n",
    "            for letter_number_temp in range(letter_number+1, letter_number+len(b)):         \n",
    "                if a[letter_number_temp] in b_dict_temp:\n",
    "                    if b_dict_temp[a[letter_number_temp]] > 0:\n",
    "                        b_dict_temp[a[letter_number_temp]] = b_dict_temp[a[letter_number_temp]] - 1                        \n",
    "                        if b_dict_temp == b_dict_zeros:\n",
    "                            return True\n",
    "                        continue\n",
    "                break\n",
    "    return False"
   ]
  },
  {
   "cell_type": "code",
   "execution_count": 97,
   "metadata": {},
   "outputs": [
    {
     "data": {
      "text/plain": [
       "(True, False, True)"
      ]
     },
     "execution_count": 97,
     "metadata": {},
     "output_type": "execute_result"
    }
   ],
   "source": [
    "check_inv('abcrotm','tro'), check_inv('good', 'god'), check_inv('caaab', 'baa')"
   ]
  },
  {
   "cell_type": "markdown",
   "metadata": {},
   "source": [
    " Сложность: O(nm)"
   ]
  },
  {
   "cell_type": "markdown",
   "metadata": {},
   "source": [
    "# Задание 3 готово\n",
    "\n",
    "Реализовать бинарное дерево (класс Tree), в нём методы __repr__, __str__, __iter__ (итерация только по листьям)."
   ]
  },
  {
   "cell_type": "code",
   "execution_count": 32,
   "metadata": {},
   "outputs": [
    {
     "data": {
      "text/plain": [
       "' 3 4 1 2 0'"
      ]
     },
     "execution_count": 32,
     "metadata": {},
     "output_type": "execute_result"
    }
   ],
   "source": [
    "class Tree:        \n",
    "    def __init__(self, value=None, left=None, right=None):\n",
    "        self.left = left\n",
    "        self.right = right\n",
    "        self.value = value\n",
    "        \n",
    "    def __iter__(self):\n",
    "        if self.left:\n",
    "            yield from iter(self.left)\n",
    "        if self.right:\n",
    "            yield from iter(self.right)\n",
    "        else:\n",
    "            yield self.value\n",
    "    \n",
    "    def __str__(self):\n",
    "        a = ''\n",
    "        b = ''\n",
    "        if self.left:\n",
    "            a = str(self.left)\n",
    "        if self.right:\n",
    "            b = str(self.right)\n",
    "        return a + b + ' ' + str(self.value)\n",
    "        \n",
    "    def __repr__(self):\n",
    "        return str(self)\n",
    "    \n",
    "tree = Tree(0, Tree(1, Tree(3), Tree(4)),                             \n",
    "               Tree(2))\n",
    "\n",
    "repr(tree)"
   ]
  },
  {
   "cell_type": "markdown",
   "metadata": {
    "collapsed": true
   },
   "source": [
    "# Задание 4 готово\n",
    "\n",
    "Реализовать простейший калькулятор математических выражений:\n",
    "- только целые числа\n",
    "- **+**, **\\-**, **\\***, **\\**\n",
    "- скобки"
   ]
  },
  {
   "cell_type": "code",
   "execution_count": 176,
   "metadata": {},
   "outputs": [
    {
     "data": {
      "text/plain": [
       "(True, True, True, True)"
      ]
     },
     "execution_count": 176,
     "metadata": {},
     "output_type": "execute_result"
    }
   ],
   "source": [
    "def isInt(syms):\n",
    "    try:\n",
    "        int(syms)\n",
    "        return True\n",
    "    except:\n",
    "        return False\n",
    "\n",
    "def toReversePolishNotation(expr):\n",
    "    expr = expr.replace('(', '( ').replace(')', ' )')\n",
    "    queue = expr.split(' ')\n",
    "    res = ''\n",
    "    stack = []\n",
    "    for sym in queue:\n",
    "        if isInt(sym):\n",
    "            res = res + sym + ' '\n",
    "        elif sym == '+' or sym == '-':\n",
    "            while stack and (stack[-1] == '*' or stack[-1] == '\\\\'):\n",
    "                res = res + stack.pop() + ' '\n",
    "            stack.append(sym)\n",
    "        elif sym == '*' or sym == '\\\\':\n",
    "            stack.append(sym)                \n",
    "        elif sym == '(':\n",
    "            stack.append(sym)\n",
    "        elif sym == ')':\n",
    "            while stack[-1] != '(':\n",
    "                res = res + stack.pop() + ' '\n",
    "            stack.pop()\n",
    "    while stack:\n",
    "        res = res + stack.pop() + ' '\n",
    "    return res[:-1]\n",
    "                \n",
    "        \n",
    "def calc(expr):\n",
    "    rpn = toReversePolishNotation(expr)\n",
    "    syms = rpn.split(' ')\n",
    "    i = 0\n",
    "    while len(syms)>1:\n",
    "        if isInt(syms[i]):\n",
    "            i = i + 1\n",
    "        else:\n",
    "            if syms[i] == '+':\n",
    "                syms[i-2] = int(syms[i-2]) + int(syms[i-1])\n",
    "            if syms[i] == '-':\n",
    "                syms[i-2] = int(syms[i-2]) - int(syms[i-1])\n",
    "            if syms[i] == '*':\n",
    "                syms[i-2] = int(syms[i-2]) * int(syms[i-1])\n",
    "            if syms[i] == '\\\\':\n",
    "                syms[i-2] = int(syms[i-2]) / int(syms[i-1])            \n",
    "            del syms[i-1]\n",
    "            del syms[i-1]\n",
    "            i = i - 1\n",
    "    return syms[-1]\n",
    "\n",
    "(calc('2 * (15 - 3 * 4) - 2') == 4, \n",
    "calc('(1 + 2) * 4 + 3') == 15,\n",
    "calc('(4 + 4) \\ 4') == 2,\n",
    "calc('4 + 4 \\ 4') == 5)"
   ]
  }
 ],
 "metadata": {
  "kernelspec": {
   "display_name": "Python 3",
   "language": "python",
   "name": "python3"
  },
  "language_info": {
   "codemirror_mode": {
    "name": "ipython",
    "version": 3
   },
   "file_extension": ".py",
   "mimetype": "text/x-python",
   "name": "python",
   "nbconvert_exporter": "python",
   "pygments_lexer": "ipython3",
   "version": "3.6.3"
  }
 },
 "nbformat": 4,
 "nbformat_minor": 1
}
