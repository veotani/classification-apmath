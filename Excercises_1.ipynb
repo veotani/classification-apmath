{
 "cells": [
  {
   "cell_type": "markdown",
   "metadata": {
    "deletable": true,
    "editable": true
   },
   "source": [
    "# Задание 1 готово\n",
    "\n",
    "[Свертка списка](https://ru.wikipedia.org/wiki/%D0%A1%D0%B2%D1%91%D1%80%D1%82%D0%BA%D0%B0_%D1%81%D0%BF%D0%B8%D1%81%D0%BA%D0%B0) -  это обобщенная операция над списком, c помощью которой можно преобразовать список в единое значение. Например рассмотрим реализации свертки слева и свертки справа (левоассоциативную свертку и правоассоциативную свертку):"
   ]
  },
  {
   "cell_type": "code",
   "execution_count": 18,
   "metadata": {
    "collapsed": true,
    "deletable": true,
    "editable": true
   },
   "outputs": [],
   "source": [
    "def foldl(f, x0, lst):\n",
    "    if not lst:\n",
    "        return x0\n",
    "    return foldl(f, f(x0, lst[0]), lst[1:])\n",
    "\n",
    "def foldr(f, x0, lst):\n",
    "    if not lst:\n",
    "        return x0\n",
    "    return f(lst[0], foldr(f, x0, lst[1:]))"
   ]
  },
  {
   "cell_type": "code",
   "execution_count": 36,
   "metadata": {
    "collapsed": false,
    "deletable": true,
    "editable": true
   },
   "outputs": [
    {
     "data": {
      "text/plain": [
       "True"
      ]
     },
     "execution_count": 36,
     "metadata": {},
     "output_type": "execute_result"
    }
   ],
   "source": [
    "#сумма\n",
    "foldl(lambda x, y: x + y, 0, [1, 2, 3]) == foldl2(lambda x, y: x + y, 0, [1, 2, 3])"
   ]
  },
  {
   "cell_type": "code",
   "execution_count": 35,
   "metadata": {
    "collapsed": false,
    "deletable": true,
    "editable": true
   },
   "outputs": [
    {
     "data": {
      "text/plain": [
       "True"
      ]
     },
     "execution_count": 35,
     "metadata": {},
     "output_type": "execute_result"
    }
   ],
   "source": [
    "#конкатенация\n",
    "foldl(lambda x, y: '{}{}'.format(x, y), '', [1, 2, 3]) == foldl2(lambda x, y: '{}{}'.format(x, y), '', [1, 2, 3])"
   ]
  },
  {
   "cell_type": "code",
   "execution_count": 34,
   "metadata": {
    "collapsed": false,
    "deletable": true,
    "editable": true
   },
   "outputs": [
    {
     "data": {
      "text/plain": [
       "(True, True)"
      ]
     },
     "execution_count": 34,
     "metadata": {},
     "output_type": "execute_result"
    }
   ],
   "source": [
    "f = lambda x, y: x / y\n",
    "foldl(f, 1, [1, 2, 3]) == foldl2(f, 1, [1, 2, 3]), foldr(f, 1, [1, 2, 3]) == foldr2(f, 1, [1, 2, 3])"
   ]
  },
  {
   "cell_type": "markdown",
   "metadata": {
    "deletable": true,
    "editable": true
   },
   "source": [
    "Задача: реализовать foldl через foldr и наоборот. Вместо многоточий нужно вставить выражения, которые бы привели к нужному результату."
   ]
  },
  {
   "cell_type": "code",
   "execution_count": 22,
   "metadata": {
    "collapsed": false,
    "deletable": true,
    "editable": true
   },
   "outputs": [
    {
     "data": {
      "text/plain": [
       "True"
      ]
     },
     "execution_count": 22,
     "metadata": {},
     "output_type": "execute_result"
    }
   ],
   "source": [
    "def foldl2(f, x0, lst):\n",
    "    return foldr(lambda  x,y: lambda z: y(f(z,x)) , lambda x: x, lst)(x0)\n",
    "\n",
    "foldl2(f, 1, [1,2,3])\n",
    "#test\n",
    "foldl2(lambda x, y: x / y, 8, [2, 4, 8]) == foldl(lambda x, y: x / y, 8, [2, 4, 8])"
   ]
  },
  {
   "cell_type": "code",
   "execution_count": 61,
   "metadata": {
    "collapsed": false,
    "deletable": true,
    "editable": true
   },
   "outputs": [
    {
     "name": "stdout",
     "output_type": "stream",
     "text": [
      "True\n",
      "True\n",
      "True\n",
      "True\n"
     ]
    }
   ],
   "source": [
    "def foldr2(f, x0, lst):\n",
    "    return foldl(lambda x,y: lambda z: x(f(y, z)), lambda x: x, lst)(x0)\n",
    "\n",
    "#тесты\n",
    "\n",
    "#сумма\n",
    "print(foldr(lambda x, y: x + y, 0, [1, 2, 3]) == foldr2(lambda x, y: x + y, 0, [1, 2, 3]))\n",
    "\n",
    "#конкатенация\n",
    "print(foldr(lambda x, y: '{}{}'.format(x, y), '', [1, 2, 3]) == foldr2(lambda x, y: '{}{}'.format(x, y), '', [1, 2, 3]))\n",
    "\n",
    "#деление\n",
    "f = lambda x, y: x / y\n",
    "print(foldr(f, 1, [1, 2, 3]) == foldr2(f, 1, [1, 2, 3]))\n",
    "\n",
    "#то, на чём у меня всё завалилось\n",
    "f = lambda x, y: '(%s, %s)' % (x, y)\n",
    "print(foldr(f, 1, [1, 2, 3]) == foldr2(f, 1, [1, 2, 3]))\n",
    "\n"
   ]
  },
  {
   "cell_type": "markdown",
   "metadata": {
    "deletable": true,
    "editable": true
   },
   "source": [
    "# Задание 2 готово\n",
    "\n",
    "нужно написать функцию, которая принимает две строки и проверяет, входит ли хотя бы одна перестановка второй строки в первую. Например:\n",
    "\n",
    "> a = 'abcrotm'\n",
    "> \n",
    "> b = 'tro'\n",
    "\n",
    "функция def check_inv(a, b) вернет True, так как 'rot' содержится в 'abcrotm'. Нужно подумать как можно более оптимальный алгоритм и оценить его сложность. "
   ]
  },
  {
   "cell_type": "code",
   "execution_count": 4,
   "metadata": {
    "collapsed": false,
    "deletable": true,
    "editable": true
   },
   "outputs": [],
   "source": [
    "def check_inv(a, b):\n",
    "    sortedB = sorted(b)\n",
    "    for i in range(len(a) - 1):                #O(a)\n",
    "        if (sorted(a[i:i+len(b)]) == sortedB): #O(b*log(b))? сложность sorted? всяко <=O(n*log(n))\n",
    "            return True    \n",
    "    return False                               #O(a*b*log(b))"
   ]
  },
  {
   "cell_type": "code",
   "execution_count": 5,
   "metadata": {
    "collapsed": false
   },
   "outputs": [
    {
     "data": {
      "text/plain": [
       "(True, False, True)"
      ]
     },
     "execution_count": 5,
     "metadata": {},
     "output_type": "execute_result"
    }
   ],
   "source": [
    "check_inv('abcrotm','tro'), check_inv('good', 'god'), check_inv('caaab', 'baa')"
   ]
  },
  {
   "cell_type": "markdown",
   "metadata": {
    "deletable": true,
    "editable": true
   },
   "source": [
    "# Задание 3 готово\n",
    "\n",
    "Реализовать бинарное дерево (класс Tree), в нём методы __repr__, __str__, __iter__ (итерация только по листьям)."
   ]
  },
  {
   "cell_type": "code",
   "execution_count": 95,
   "metadata": {
    "collapsed": false,
    "deletable": true,
    "editable": true
   },
   "outputs": [
    {
     "data": {
      "text/plain": [
       "True"
      ]
     },
     "execution_count": 95,
     "metadata": {},
     "output_type": "execute_result"
    }
   ],
   "source": [
    "def searchLeaves(tree, leaves):\n",
    "    if (tree.left != None):\n",
    "        searchLeaves(tree.left, leaves)\n",
    "    if (tree.right != None):\n",
    "        searchLeaves(tree.right, leaves)\n",
    "    if (tree.left == None and tree.right == None):\n",
    "        leaves.append(tree.value)\n",
    "            \n",
    "def takeNodes(tree, values):        \n",
    "    values.append(str(tree.value))\n",
    "    if (tree.left != None):\n",
    "        values.append('l')\n",
    "        takeNodes(tree.left, values)            \n",
    "    if (tree.right != None):\n",
    "        values.append('r')\n",
    "        takeNodes(tree.right, values)\n",
    "    values.append('up')\n",
    "        \n",
    "class Tree:        \n",
    "    def __init__(self, value=None, left=None, right=None):\n",
    "        self.left = left\n",
    "        self.right = right\n",
    "        self.value = value\n",
    "        \n",
    "    def __iter__(self):\n",
    "        leaves = []\n",
    "        searchLeaves(self, leaves)\n",
    "        return iter(leaves)\n",
    "    \n",
    "    def __str__(self):\n",
    "        values = []\n",
    "        takeNodes(self, values)\n",
    "        rep = ' '.join(values)\n",
    "        i = 0\n",
    "        res = []\n",
    "        for a in rep:\n",
    "            if a == 'l':\n",
    "                i = i+1\n",
    "            elif a == 'r':\n",
    "                i = i+1\n",
    "            elif a == 'u':\n",
    "                i = i-1\n",
    "            elif a == 'p' or a == ' ':\n",
    "                continue\n",
    "            else:\n",
    "                try:\n",
    "                    res[i] = res[i] + ' ' + a\n",
    "                except:                    \n",
    "                    res.insert(i, str(a))\n",
    "        ress = ''\n",
    "        for line in res:\n",
    "            ress = ress + '\\n' + line \n",
    "        return ress\n",
    "    \n",
    "    def __repr__(self):\n",
    "        values = []\n",
    "        takeNodes(self, values)\n",
    "        return ' '.join(values)\n",
    "    \n",
    "tree = Tree(0, Tree(1, Tree(3), Tree(4)),                             \n",
    "               Tree(2))\n",
    "\n",
    "#tree = Tree(1, \n",
    "#            Tree(2, \n",
    "#                 Tree(3), \n",
    "#                 Tree(4, \n",
    "#                      Tree(5, \n",
    "#                           Tree(7)), \n",
    "#                      Tree(6))), \n",
    "#                 Tree(8, None, \n",
    "#                      Tree(9, \n",
    "#                           Tree(10, \n",
    "#                                Tree(11, None, \n",
    "#                                     Tree(12))))))\n",
    "\n",
    "list(tree) == [3, 4, 2]"
   ]
  },
  {
   "cell_type": "markdown",
   "metadata": {
    "collapsed": true,
    "deletable": true,
    "editable": true
   },
   "source": [
    "# Задание 4 готово\n",
    "\n",
    "Реализовать простейший калькулятор математических выражений:\n",
    "- только целые числа\n",
    "- **+**, **\\-**, **\\***, **\\**\n",
    "- скобки"
   ]
  },
  {
   "cell_type": "code",
   "execution_count": 176,
   "metadata": {
    "collapsed": false
   },
   "outputs": [
    {
     "data": {
      "text/plain": [
       "(True, True, True, True)"
      ]
     },
     "execution_count": 176,
     "metadata": {},
     "output_type": "execute_result"
    }
   ],
   "source": [
    "def isInt(syms):\n",
    "    try:\n",
    "        int(syms)\n",
    "        return True\n",
    "    except:\n",
    "        return False\n",
    "\n",
    "def toReversePolishNotation(expr):\n",
    "    expr = expr.replace('(', '( ').replace(')', ' )')\n",
    "    queue = expr.split(' ')\n",
    "    res = ''\n",
    "    stack = []\n",
    "    for sym in queue:\n",
    "        if isInt(sym):\n",
    "            res = res + sym + ' '\n",
    "        elif sym == '+' or sym == '-':\n",
    "            while stack and (stack[-1] == '*' or stack[-1] == '\\\\'):\n",
    "                res = res + stack.pop() + ' '\n",
    "            stack.append(sym)\n",
    "        elif sym == '*' or sym == '\\\\':\n",
    "            stack.append(sym)                \n",
    "        elif sym == '(':\n",
    "            stack.append(sym)\n",
    "        elif sym == ')':\n",
    "            while stack[-1] != '(':\n",
    "                res = res + stack.pop() + ' '\n",
    "            stack.pop()\n",
    "    while stack:\n",
    "        res = res + stack.pop() + ' '\n",
    "    return res[:-1]\n",
    "                \n",
    "        \n",
    "def calc(expr):\n",
    "    rpn = toReversePolishNotation(expr)\n",
    "    syms = rpn.split(' ')\n",
    "    i = 0\n",
    "    while len(syms)>1:\n",
    "        if isInt(syms[i]):\n",
    "            i = i + 1\n",
    "        else:\n",
    "            if syms[i] == '+':\n",
    "                syms[i-2] = int(syms[i-2]) + int(syms[i-1])\n",
    "            if syms[i] == '-':\n",
    "                syms[i-2] = int(syms[i-2]) - int(syms[i-1])\n",
    "            if syms[i] == '*':\n",
    "                syms[i-2] = int(syms[i-2]) * int(syms[i-1])\n",
    "            if syms[i] == '\\\\':\n",
    "                syms[i-2] = int(syms[i-2]) / int(syms[i-1])            \n",
    "            del syms[i-1]\n",
    "            del syms[i-1]\n",
    "            i = i - 1\n",
    "    return syms[-1]\n",
    "\n",
    "(calc('2 * (15 - 3 * 4) - 2') == 4, \n",
    "calc('(1 + 2) * 4 + 3') == 15,\n",
    "calc('(4 + 4) \\ 4') == 2,\n",
    "calc('4 + 4 \\ 4') == 5)"
   ]
  }
 ],
 "metadata": {
  "kernelspec": {
   "display_name": "Python 3",
   "language": "python",
   "name": "python3"
  },
  "language_info": {
   "codemirror_mode": {
    "name": "ipython",
    "version": 3
   },
   "file_extension": ".py",
   "mimetype": "text/x-python",
   "name": "python",
   "nbconvert_exporter": "python",
   "pygments_lexer": "ipython3",
   "version": "3.6.0"
  }
 },
 "nbformat": 4,
 "nbformat_minor": 0
}
