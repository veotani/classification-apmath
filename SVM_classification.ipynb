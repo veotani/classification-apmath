{
 "cells": [
  {
   "cell_type": "markdown",
   "metadata": {},
   "source": [
    "# Различные методы машинного обучения, проверенные на одинаковых датасетах и их сравнение"
   ]
  },
  {
   "cell_type": "code",
   "execution_count": 7,
   "metadata": {
    "collapsed": true
   },
   "outputs": [],
   "source": [
    "import os\n",
    "import pymorphy2\n",
    "\n",
    "not_normilized_fs = os.listdir('normilized_categories/')\n",
    "analyzer = pymorphy2.MorphAnalyzer()\n",
    "\n",
    "with open('train_data.txt', 'w') as td, open('test_data.txt', 'w') as test:\n",
    "    for file in not_normilized_fs:\n",
    "        with open('normilized_categories/' + file, 'r') as f:\n",
    "            count_documents = sum(1 for _ in f)\n",
    "        with open('normilized_categories/' + file) as f: \n",
    "            count_lines = 0\n",
    "            for line in f.readlines():\n",
    "\n",
    "                if count_lines < count_documents * 0.8:\n",
    "\n",
    "                    td.write(file.replace('.txt', '') + '\\t' + line)\n",
    "                    count_lines = count_lines + 1\n",
    "                else:\n",
    "                    test.write(file.replace('.txt', '') + '\\t' + line)"
   ]
  },
  {
   "cell_type": "markdown",
   "metadata": {},
   "source": [
    "** SVM (linear kernel) **"
   ]
  },
  {
   "cell_type": "code",
   "execution_count": 1,
   "metadata": {},
   "outputs": [
    {
     "name": "stdout",
     "output_type": "stream",
     "text": [
      "[LibSVM]"
     ]
    }
   ],
   "source": [
    "# Обучаем SVM\n",
    "\n",
    "from sklearn.feature_extraction.text import TfidfVectorizer\n",
    "from sklearn.svm import SVC\n",
    "\n",
    "def get_learned_svm():\n",
    "    docs = []\n",
    "    y = []\n",
    "    with open('train_data.txt', 'r') as f:\n",
    "        for line in f.readlines():\n",
    "            docs.append(line.split('\\t')[1])\n",
    "            y.append(line.split('\\t')[0])\n",
    "    vectorizer = TfidfVectorizer(min_df=1)\n",
    "    X = vectorizer.fit_transform(docs)\n",
    "    svm = SVC(kernel='linear', verbose=True)\n",
    "    svm.fit(X, y)\n",
    "    return svm, vectorizer.vocabulary_\n",
    "\n",
    "svm, tf_basis = get_learned_svm()"
   ]
  },
  {
   "cell_type": "code",
   "execution_count": 7,
   "metadata": {},
   "outputs": [
    {
     "name": "stdout",
     "output_type": "stream",
     "text": [
      "На тестовых данных: \n",
      "0.479414322992\n"
     ]
    }
   ],
   "source": [
    "docs_test = []\n",
    "y_test = []\n",
    "with open('test_data.txt', 'r') as f:\n",
    "    for line in f.readlines():\n",
    "        if (line.split('\\t')[0] != 'cat_doc'):\n",
    "            docs_test.append(line.split('\\t')[1])\n",
    "            y_test.append(line.split('\\t')[0])\n",
    "\n",
    "#vectorizer_test = TfidfVectorizer(min_df=1, vocabulary=tf_basis)\n",
    "#X_test = vectorizer_test.fit_transform(docs_test)\n",
    "#pred = svm.predict(X_test)\n",
    "#print('На тестовых данных: ')\n",
    "#print(svm.score(X_test, y_test))"
   ]
  },
  {
   "cell_type": "code",
   "execution_count": 58,
   "metadata": {},
   "outputs": [
    {
     "data": {
      "application/vnd.jupyter.widget-view+json": {
       "model_id": "e33859ef80f343e9ab13f1511ecc37e1",
       "version_major": 2,
       "version_minor": 0
      },
      "text/plain": [
       "A Jupyter Widget"
      ]
     },
     "metadata": {},
     "output_type": "display_data"
    },
    {
     "name": "stdout",
     "output_type": "stream",
     "text": [
      "\n"
     ]
    }
   ],
   "source": [
    "from tqdm import tqdm_notebook\n",
    "\n",
    "docs = []\n",
    "y = []\n",
    "with open('train_data.txt', 'r') as f:\n",
    "    for line in tqdm_notebook(f.readlines()):\n",
    "        if (line.split('\\t')[0] != 'cat_doc'):\n",
    "            docs.append(line.split('\\t')[1])\n",
    "            y.append(line.split('\\t')[0])"
   ]
  },
  {
   "cell_type": "markdown",
   "metadata": {},
   "source": [
    "** Naive bayes ** "
   ]
  },
  {
   "cell_type": "code",
   "execution_count": 21,
   "metadata": {},
   "outputs": [],
   "source": [
    "from sklearn.naive_bayes import MultinomialNB\n",
    "\n",
    "# Формируем тренировочное множество\n",
    "X = []\n",
    "y = []\n",
    "with open('train_data.txt', 'r') as f:\n",
    "    for line in f.readlines():\n",
    "        if (len(line.split('\\t')) > 1 and line.split('\\t')[0] != 'cat_doc'):\n",
    "            X.append(line.split('\\t')[1])\n",
    "            y.append(line.split('\\t')[0])\n",
    "        \n",
    "        \n",
    "# Переводим его в векторы\n",
    "X_train_tfidf = TfidfVectorizer(min_df=1).fit_transform(X)\n",
    "\n",
    "\n",
    "# Обучение\n",
    "clf = MultinomialNB().fit(X_train_tfidf, y)"
   ]
  },
  {
   "cell_type": "code",
   "execution_count": 25,
   "metadata": {},
   "outputs": [
    {
     "data": {
      "text/plain": [
       "0.30864018556103218"
      ]
     },
     "execution_count": 25,
     "metadata": {},
     "output_type": "execute_result"
    }
   ],
   "source": [
    "import numpy as np\n",
    "\n",
    "docs_test = []\n",
    "y_test = []\n",
    "with open('test_data.txt', 'r') as f:\n",
    "    for line in f.readlines():\n",
    "        docs_test.append(line.split('\\t')[1])\n",
    "        y_test.append(line.split('\\t')[0])\n",
    "\n",
    "vectorizer_test = TfidfVectorizer(min_df=1, vocabulary=tf_basis)\n",
    "X_test = vectorizer_test.fit_transform(docs_test)\n",
    "\n",
    "predicted = clf.predict(X_test)\n",
    "np.mean(predicted == y_test)"
   ]
  },
  {
   "cell_type": "code",
   "execution_count": 59,
   "metadata": {
    "collapsed": true
   },
   "outputs": [],
   "source": [
    "docs_test = []\n",
    "y_test = []\n",
    "with open('test_data.txt', 'r') as f:\n",
    "    for line in f.readlines():\n",
    "        if (line.split('\\t')[0] != 'cat_doc'):\n",
    "            docs_test.append(line.split('\\t')[1])\n",
    "            y_test.append(line.split('\\t')[0])"
   ]
  },
  {
   "cell_type": "markdown",
   "metadata": {},
   "source": [
    "** SVM (rbf kernel) ** "
   ]
  },
  {
   "cell_type": "code",
   "execution_count": 26,
   "metadata": {},
   "outputs": [
    {
     "name": "stdout",
     "output_type": "stream",
     "text": [
      "[LibSVM]"
     ]
    }
   ],
   "source": [
    "def get_learned_svm_def():\n",
    "    docs = []\n",
    "    y = []\n",
    "    with open('train_data.txt', 'r') as f:\n",
    "        for line in f.readlines():\n",
    "            docs.append(line.split('\\t')[1])\n",
    "            y.append(line.split('\\t')[0])\n",
    "    vectorizer = TfidfVectorizer(min_df=1)\n",
    "    X = vectorizer.fit_transform(docs)\n",
    "    svm = SVC(verbose=True)\n",
    "    svm.fit(X, y)\n",
    "    return svm, vectorizer.vocabulary_\n",
    "svm_def, tfidf_basis_def = get_learned_svm_def()"
   ]
  },
  {
   "cell_type": "code",
   "execution_count": 28,
   "metadata": {},
   "outputs": [
    {
     "name": "stdout",
     "output_type": "stream",
     "text": [
      "На тестовых данных: \n",
      "0.140330530589\n"
     ]
    }
   ],
   "source": [
    "docs_test = []\n",
    "y_test = []\n",
    "with open('test_data.txt', 'r') as f:\n",
    "    for line in f.readlines():\n",
    "        docs_test.append(line.split('\\t')[1])\n",
    "        y_test.append(line.split('\\t')[0])\n",
    "\n",
    "vectorizer_test = TfidfVectorizer(min_df=1, vocabulary=tfidf_basis_def)\n",
    "X_test = vectorizer_test.fit_transform(docs_test)\n",
    "pred = svm_def.predict(X_test)\n",
    "print('На тестовых данных: ')\n",
    "print(svm_def.score(X_test, y_test))"
   ]
  },
  {
   "cell_type": "markdown",
   "metadata": {},
   "source": [
    "** SVM (polynomial kernel) **  "
   ]
  },
  {
   "cell_type": "code",
   "execution_count": 29,
   "metadata": {},
   "outputs": [
    {
     "name": "stdout",
     "output_type": "stream",
     "text": [
      "[LibSVM]"
     ]
    }
   ],
   "source": [
    "def get_learned_svm_poly():\n",
    "    docs = []\n",
    "    y = []\n",
    "    with open('train_data.txt', 'r') as f:\n",
    "        for line in f.readlines():\n",
    "            docs.append(line.split('\\t')[1])\n",
    "            y.append(line.split('\\t')[0])\n",
    "    vectorizer = TfidfVectorizer(min_df=1)\n",
    "    X = vectorizer.fit_transform(docs)\n",
    "    svm = SVC(kernel='poly', degree=2, verbose=True)\n",
    "    svm.fit(X, y)\n",
    "    return svm, vectorizer.vocabulary_\n",
    "svm_poly, tfidf_basis_poly = get_learned_svm_poly()"
   ]
  },
  {
   "cell_type": "code",
   "execution_count": 30,
   "metadata": {},
   "outputs": [
    {
     "name": "stdout",
     "output_type": "stream",
     "text": [
      "На тестовых данных: \n",
      "0.140330530589\n"
     ]
    }
   ],
   "source": [
    "docs_test = []\n",
    "y_test = []\n",
    "with open('test_data.txt', 'r') as f:\n",
    "    for line in f.readlines():\n",
    "        docs_test.append(line.split('\\t')[1])\n",
    "        y_test.append(line.split('\\t')[0])\n",
    "\n",
    "vectorizer_test = TfidfVectorizer(min_df=1, vocabulary=tfidf_basis_poly)\n",
    "X_test = vectorizer_test.fit_transform(docs_test)\n",
    "pred = svm_poly.predict(X_test)\n",
    "print('На тестовых данных: ')\n",
    "print(svm_poly.score(X_test, y_test))"
   ]
  },
  {
   "cell_type": "markdown",
   "metadata": {},
   "source": [
    "**Linear SVM**"
   ]
  },
  {
   "cell_type": "code",
   "execution_count": 60,
   "metadata": {},
   "outputs": [
    {
     "name": "stderr",
     "output_type": "stream",
     "text": [
      "C:\\Users\\Veotani\\Anaconda3\\lib\\site-packages\\sklearn\\linear_model\\stochastic_gradient.py:128: FutureWarning: max_iter and tol parameters have been added in <class 'sklearn.linear_model.stochastic_gradient.SGDClassifier'> in 0.19. If both are left unset, they default to max_iter=5 and tol=None. If tol is not None, max_iter defaults to max_iter=1000. From 0.21, default max_iter will be 1000, and default tol will be 1e-3.\n",
      "  \"and default tol will be 1e-3.\" % type(self), FutureWarning)\n"
     ]
    },
    {
     "data": {
      "text/plain": [
       "Pipeline(memory=None,\n",
       "     steps=[('vect', CountVectorizer(analyzer='word', binary=False, decode_error='strict',\n",
       "        dtype=<class 'numpy.int64'>, encoding='utf-8', input='content',\n",
       "        lowercase=True, max_df=1.0, max_features=None, min_df=1,\n",
       "        ngram_range=(1, 1), preprocessor=None, stop_words=None,\n",
       "        strip...='l2', power_t=0.5, random_state=None,\n",
       "       shuffle=True, tol=None, verbose=0, warm_start=False))])"
      ]
     },
     "execution_count": 60,
     "metadata": {},
     "output_type": "execute_result"
    }
   ],
   "source": [
    "from sklearn.pipeline import Pipeline\n",
    "from sklearn.feature_extraction.text import CountVectorizer\n",
    "from sklearn.linear_model import SGDClassifier\n",
    "from sklearn.feature_extraction.text import TfidfTransformer\n",
    "\n",
    "text_clf = Pipeline([('vect', CountVectorizer()),\n",
    "                     ('tfidf', TfidfTransformer()),\n",
    "                     ('clf', SGDClassifier())#loss='hinge', penalty='l2',\n",
    "                                           # alpha=1e-3, random_state=42,\n",
    "                                           # max_iter=5, tol=None)),\n",
    "])\n",
    "text_clf.fit(docs, y)"
   ]
  },
  {
   "cell_type": "code",
   "execution_count": 61,
   "metadata": {},
   "outputs": [
    {
     "data": {
      "text/plain": [
       "0.54418212478920747"
      ]
     },
     "execution_count": 61,
     "metadata": {},
     "output_type": "execute_result"
    }
   ],
   "source": [
    "predicted = text_clf.predict(docs_test)\n",
    "np.mean(predicted == y_test)"
   ]
  },
  {
   "cell_type": "markdown",
   "metadata": {},
   "source": [
    "** Данные на которых проводилось исследование: **\n",
    "* Новости за 2 года по всем категории новостного портала fontanka.ru \n",
    "* 27621 документ | 17 классов - обучение \n",
    "* 6898 документов             - тестирование \n",
    "\n",
    "** Результаты: **\n",
    "* SVM (linear kernel)                - 47.9% \n",
    "* Naive Bayes                        - 30.8% \n",
    "* SVM (RBF kernel)                   - 14%   \n",
    "* SVM (polynom with degree=2 kernel) - 14%   \n",
    "* Linear SVM                         - 54.42%"
   ]
  },
  {
   "cell_type": "markdown",
   "metadata": {},
   "source": [
    "##### Telegram Interface"
   ]
  },
  {
   "cell_type": "code",
   "execution_count": null,
   "metadata": {
    "scrolled": false
   },
   "outputs": [],
   "source": [
    "import telebot\n",
    "import re\n",
    "import pymorphy2\n",
    "\n",
    "#token ВСТАВИТЬ СВОЙ ТОКЕН!\n",
    "bot = telebot.TeleBot(token)\n",
    "analyzer = pymorphy2.MorphAnalyzer()\n",
    "\n",
    "@bot.message_handler(content_types=[\"text\"])\n",
    "def repeat_all_messages(message): # TODO: текст сообщения нормализовать\n",
    "    line = message.text\n",
    "    words = (word for word in re.split('\\W+', line) if len(word) > 0)\n",
    "    norm_form = (analyzer.normal_forms(word)[0] for word in words)\n",
    "    text = ' '.join(norm_form)\n",
    "    cat = text_clf.predict([text])\n",
    "    bot.send_message(message.chat.id, cat[0])\n",
    "\n",
    "if __name__ == '__main__':\n",
    "    bot.polling(none_stop=True)"
   ]
  }
 ],
 "metadata": {
  "kernelspec": {
   "display_name": "Python 3",
   "language": "python",
   "name": "python3"
  },
  "language_info": {
   "codemirror_mode": {
    "name": "ipython",
    "version": 3
   },
   "file_extension": ".py",
   "mimetype": "text/x-python",
   "name": "python",
   "nbconvert_exporter": "python",
   "pygments_lexer": "ipython3",
   "version": "3.6.3"
  }
 },
 "nbformat": 4,
 "nbformat_minor": 2
}
