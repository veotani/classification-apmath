{
 "cells": [
  {
   "cell_type": "markdown",
   "metadata": {},
   "source": [
    "# Загрузка базы вопросов ЧГК\n",
    "\n",
    "Нужно загрузить все доступные вопросы и ответы к ним с базы http:///db.chgk.info . Результаты необходимо сохранить в каком-либо формате в форме вопрос-ответ (pickle, sqlite, текстовый файл и т.д.). "
   ]
  },
  {
   "cell_type": "code",
   "execution_count": 2,
   "metadata": {
    "collapsed": true
   },
   "outputs": [],
   "source": [
    "import lxml.html\n",
    "import lxml.etree\n",
    "import requests"
   ]
  },
  {
   "cell_type": "code",
   "execution_count": 143,
   "metadata": {},
   "outputs": [
    {
     "data": {
      "text/plain": [
       "'https://db.chgk.info/tour/sanbel00'"
      ]
     },
     "execution_count": 143,
     "metadata": {},
     "output_type": "execute_result"
    }
   ],
   "source": [
    "def parse_page(url):\n",
    "    response = requests.get(url)\n",
    "    if (response.status_code == 200):\n",
    "        links = []\n",
    "        tree = lxml.html.fromstring(response.text)\n",
    "        even = tree.xpath('//tr[contains(@class, \"even\")]//a[contains(@rel, \"nofollow\")]/@href')\n",
    "        odds = tree.xpath('//tr[contains(@class, \"odd\")]//a[contains(@rel, \"nofollow\")]/@href')\n",
    "        for element in even:\n",
    "            links.append('https://db.chgk.info' + element)\n",
    "        for element in odds:\n",
    "            links.append('https://db.chgk.info' + element)\n",
    "        return links"
   ]
  },
  {
   "cell_type": "code",
   "execution_count": 211,
   "metadata": {},
   "outputs": [],
   "source": [
    "def parse_event(event_page_link):\n",
    "    num_of_errors = 0\n",
    "    response = requests.get(event_page_link)\n",
    "    if (response.status_code == 200):\n",
    "        res = []\n",
    "        tree = lxml.html.fromstring(response.text)\n",
    "        containers = tree.xpath('//div[contains(@class, \"question\")]')\n",
    "        for a in containers:\n",
    "            question = a.getchildren()[0].text_content()\n",
    "            try:\n",
    "                answer = a.getchildren()[1].getchildren()[1].text_content()            \n",
    "            except:\n",
    "                num_of_errors = num_of_errors + 1\n",
    "                answer = ''\n",
    "            tuple_ans = (question, answer)\n",
    "            res.append(tuple_ans)\n",
    "    if num_of_errors>0:\n",
    "        print(f\"На странице {event_page_link} было {num_of_errors} ошибок\")\n",
    "    return res"
   ]
  },
  {
   "cell_type": "code",
   "execution_count": 201,
   "metadata": {},
   "outputs": [
    {
     "name": "stdout",
     "output_type": "stream",
     "text": [
      "Обрабатывается 0 страница.\n",
      "На странице https://db.chgk.info/tour/ichb10 было 4 ошибок\n",
      "Обрабатывается 1 страница.\n",
      "Обрабатывается 2 страница.\n",
      "Обрабатывается 3 страница.\n",
      "Обрабатывается 4 страница.\n",
      "На странице https://db.chgk.info/tour/mgp1516 было 2 ошибок\n",
      "Обрабатывается 5 страница.\n",
      "На странице https://db.chgk.info/tour/ultima14 было 1 ошибок\n",
      "Обрабатывается 6 страница.\n",
      "На странице https://db.chgk.info/tour/volna15 было 1 ошибок\n",
      "Обрабатывается 7 страница.\n",
      "Обрабатывается 8 страница.\n",
      "Обрабатывается 9 страница.\n",
      "Обрабатывается 10 страница.\n",
      "Обрабатывается 11 страница.\n",
      "Обрабатывается 12 страница.\n",
      "Обрабатывается 13 страница.\n",
      "Обрабатывается 14 страница.\n",
      "На странице https://db.chgk.info/tour/znat12ch было 1 ошибок\n",
      "Обрабатывается 15 страница.\n",
      "Обрабатывается 16 страница.\n",
      "На странице https://db.chgk.info/tour/ruch11st было 1 ошибок\n",
      "Обрабатывается 17 страница.\n",
      "На странице https://db.chgk.info/tour/leti11 было 1 ошибок\n",
      "Обрабатывается 18 страница.\n",
      "Обрабатывается 19 страница.\n",
      "Обрабатывается 20 страница.\n",
      "На странице https://db.chgk.info/tour/nimlot05 было 1 ошибок\n",
      "На странице https://db.chgk.info/tour/tyumen07 было 1 ошибок\n",
      "Обрабатывается 21 страница.\n",
      "На странице https://db.chgk.info/tour/metrop08 было 2 ошибок\n",
      "Обрабатывается 22 страница.\n",
      "На странице https://db.chgk.info/tour/metrop07 было 2 ошибок\n",
      "На странице https://db.chgk.info/tour/kazan9 было 1 ошибок\n",
      "Обрабатывается 23 страница.\n",
      "Обрабатывается 24 страница.\n",
      "На странице https://db.chgk.info/tour/tyumen05 было 1 ошибок\n",
      "Обрабатывается 25 страница.\n",
      "На странице https://db.chgk.info/tour/ruch05st было 1 ошибок\n",
      "На странице https://db.chgk.info/tour/kursk05 было 1 ошибок\n",
      "На странице https://db.chgk.info/tour/ichb06 было 4 ошибок\n",
      "На странице https://db.chgk.info/tour/mgp0506 было 1 ошибок\n",
      "Обрабатывается 26 страница.\n",
      "На странице https://db.chgk.info/tour/israel05 было 1 ошибок\n",
      "На странице https://db.chgk.info/tour/yuliga04 было 1 ошибок\n",
      "На странице https://db.chgk.info/tour/haif2l05 было 1 ошибок\n",
      "Обрабатывается 27 страница.\n",
      "На странице https://db.chgk.info/tour/ichb05 было 3 ошибок\n",
      "На странице https://db.chgk.info/tour/dneprop было 1 ошибок\n",
      "Обрабатывается 28 страница.\n",
      "На странице https://db.chgk.info/tour/umpalata было 3 ошибок\n",
      "Обрабатывается 29 страница.\n",
      "На странице https://db.chgk.info/tour/znvbes03 было 1 ошибок\n",
      "На странице https://db.chgk.info/tour/tel03sup было 1 ошибок\n",
      "Обрабатывается 30 страница.\n",
      "На странице https://db.chgk.info/tour/ichb04 было 7 ошибок\n",
      "Обрабатывается 31 страница.\n",
      "На странице https://db.chgk.info/tour/avgser00 было 3 ошибок\n",
      "Обрабатывается 32 страница.\n",
      "На странице https://db.chgk.info/tour/znvbes02 было 2 ошибок\n",
      "Обрабатывается 33 страница.\n",
      "На странице https://db.chgk.info/tour/prisel97 было 1 ошибок\n",
      "Обрабатывается 34 страница.\n",
      "На странице https://db.chgk.info/tour/ichb03 было 6 ошибок\n",
      "На странице https://db.chgk.info/tour/wc02 было 1 ошибок\n",
      "Обрабатывается 35 страница.\n",
      "На странице https://db.chgk.info/tour/diplom02 было 1 ошибок\n",
      "На странице https://db.chgk.info/tour/znvbes01 было 3 ошибок\n",
      "Обрабатывается 36 страница.\n",
      "На странице https://db.chgk.info/tour/ichb02 было 6 ошибок\n",
      "На странице https://db.chgk.info/tour/ichb01 было 5 ошибок\n",
      "Обрабатывается 37 страница.\n",
      "На странице https://db.chgk.info/tour/chik00 было 1 ошибок\n",
      "Обрабатывается 38 страница.\n",
      "На странице https://db.chgk.info/tour/igp4 было 1 ошибок\n",
      "На странице https://db.chgk.info/tour/kursk94 было 1 ошибок\n",
      "На странице https://db.chgk.info/tour/nsk было 6 ошибок\n",
      "На странице https://db.chgk.info/tour/enigma94 было 1 ошибок\n",
      "Обрабатывается 39 страница.\n",
      "На странице https://db.chgk.info/tour/igp5 было 1 ошибок\n",
      "Обрабатывается 40 страница.\n"
     ]
    },
    {
     "ename": "OperationalError",
     "evalue": "disk I/O error",
     "output_type": "error",
     "traceback": [
      "\u001b[0;31m---------------------------------------------------------------------------\u001b[0m",
      "\u001b[0;31mOperationalError\u001b[0m                          Traceback (most recent call last)",
      "\u001b[0;32m<ipython-input-201-38ea1969be93>\u001b[0m in \u001b[0;36m<module>\u001b[0;34m()\u001b[0m\n\u001b[1;32m     16\u001b[0m     \u001b[0mlink\u001b[0m \u001b[0;34m=\u001b[0m \u001b[0murls\u001b[0m\u001b[0;34m[\u001b[0m\u001b[0;34m-\u001b[0m\u001b[0;36m1\u001b[0m\u001b[0;34m]\u001b[0m\u001b[0;34m\u001b[0m\u001b[0m\n\u001b[1;32m     17\u001b[0m     \u001b[0mpage_num\u001b[0m \u001b[0;34m=\u001b[0m \u001b[0mpage_num\u001b[0m \u001b[0;34m+\u001b[0m \u001b[0;36m1\u001b[0m\u001b[0;34m\u001b[0m\u001b[0m\n\u001b[0;32m---> 18\u001b[0;31m \u001b[0mconn\u001b[0m\u001b[0;34m.\u001b[0m\u001b[0mcommit\u001b[0m\u001b[0;34m(\u001b[0m\u001b[0;34m)\u001b[0m\u001b[0;34m\u001b[0m\u001b[0m\n\u001b[0m\u001b[1;32m     19\u001b[0m \u001b[0mconn\u001b[0m\u001b[0;34m.\u001b[0m\u001b[0mclose\u001b[0m\u001b[0;34m(\u001b[0m\u001b[0;34m)\u001b[0m\u001b[0;34m\u001b[0m\u001b[0m\n",
      "\u001b[0;31mOperationalError\u001b[0m: disk I/O error"
     ]
    }
   ],
   "source": [
    "page_num = 0\n",
    "link = ''\n",
    "conn = sqlite3.connect('www.db')\n",
    "c = conn.cursor()\n",
    "\n",
    "c.execute('''CREATE TABLE www\n",
    "             (questions, answers)''')\n",
    "\n",
    "while link != 'https://db.chgk.info/tour/sanbel00':\n",
    "    print(f\"Обрабатывается {page_num} страница.\")\n",
    "    page_url = 'https://db.chgk.info/last?page=' + str(page_num)\n",
    "    urls = parse_page(page_url)\n",
    "    for url in urls:\n",
    "        results = parse_event(url)\n",
    "        c.executemany('INSERT INTO www VALUES (?,?)', results)        \n",
    "    link = urls[-1]\n",
    "    page_num = page_num + 1\n",
    "conn.commit()\n",
    "conn.close()"
   ]
  },
  {
   "cell_type": "code",
   "execution_count": 203,
   "metadata": {},
   "outputs": [],
   "source": [
    "conn = sqlite3.connect('www.db')\n",
    "c = conn.cursor()\n",
    "c.execute(\"SLE\")"
   ]
  },
  {
   "cell_type": "code",
   "execution_count": 218,
   "metadata": {},
   "outputs": [
    {
     "name": "stdout",
     "output_type": "stream",
     "text": [
      "На странице https://db.chgk.info/tour/ichb02 было 6 ошибок\n",
      "267\n",
      "\n",
      "    Вопрос 15: \n",
      "\n",
      "    Вопрос 22: \n",
      "    Звук рояля донесся как будто с небес.\n",
      "\n",
      "    И, расслышав начало\n",
      "\n",
      "\n",
      "    Вопрос 10: МНИТЕЛЬНАЯ\n",
      "\n",
      "    [...\n",
      "\n",
      "\n",
      "    Вопрос 7: НАЧАЛО 90-Х ГГ.\n",
      "\n",
      "    Три программиста-гения\n",
      "\n",
      "    Ведут о глюке спор.\n",
      "\n",
      "    Слышны три веских мнения:\n",
      "\n",
      "\n",
      "    Вопрос 9: РАЗГОВОР С ПСИХИАТРОМ\n",
      "\n",
      "    — Ага... Дочь придворных, студентка... Без меры\n",
      "\n",
      "    Ты любишь учить зоологию?\n",
      "\n",
      "\n",
      "    Вопрос 11: СОВЕЩАНИЕ В РУССКОМ ШТАБЕ\n",
      "\n",
      "    — Сколько солдат в этой крепости?\n",
      "\n"
     ]
    }
   ],
   "source": [
    "a = parse_event('https://db.chgk.info/tour/ichb02')\n",
    "i = 0\n",
    "print(len(a))\n",
    "for b in a:\n",
    "    \n",
    "    if b[1] == '':\n",
    "        print(b[0])\n",
    "    i = i + 1"
   ]
  }
 ],
 "metadata": {
  "kernelspec": {
   "display_name": "Python 3",
   "language": "python",
   "name": "python3"
  },
  "language_info": {
   "codemirror_mode": {
    "name": "ipython",
    "version": 3
   },
   "file_extension": ".py",
   "mimetype": "text/x-python",
   "name": "python",
   "nbconvert_exporter": "python",
   "pygments_lexer": "ipython3",
   "version": "3.6.3"
  }
 },
 "nbformat": 4,
 "nbformat_minor": 1
}
