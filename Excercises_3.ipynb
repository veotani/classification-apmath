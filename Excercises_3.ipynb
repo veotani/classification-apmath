{
 "cells": [
  {
   "cell_type": "markdown",
   "metadata": {},
   "source": [
    "# Загрузка базы вопросов ЧГК\n",
    "\n",
    "Нужно загрузить все доступные вопросы и ответы к ним с базы http:///db.chgk.info . Результаты необходимо сохранить в каком-либо формате в форме вопрос-ответ (pickle, sqlite, текстовый файл и т.д.). "
   ]
  },
  {
   "cell_type": "code",
   "execution_count": 2,
   "metadata": {
    "collapsed": true
   },
   "outputs": [],
   "source": [
    "import lxml.html\n",
    "import lxml.etree\n",
    "import requests"
   ]
  },
  {
   "cell_type": "code",
   "execution_count": 1,
   "metadata": {},
   "outputs": [],
   "source": [
    "def parse_page(url):\n",
    "    response = requests.get(url)\n",
    "    if (response.status_code == 200):\n",
    "        links = []\n",
    "        tree = lxml.html.fromstring(response.text)\n",
    "        even = tree.xpath('//tr[contains(@class, \"even\")]//a[contains(@rel, \"nofollow\")]/@href')\n",
    "        odds = tree.xpath('//tr[contains(@class, \"odd\")]//a[contains(@rel, \"nofollow\")]/@href')\n",
    "        for element in even:\n",
    "            links.append('https://db.chgk.info' + element)\n",
    "        for element in odds:\n",
    "            links.append('https://db.chgk.info' + element)\n",
    "        return links"
   ]
  },
  {
   "cell_type": "code",
   "execution_count": 2,
   "metadata": {
    "collapsed": true
   },
   "outputs": [],
   "source": [
    "def parse_event(event_page_link):\n",
    "    num_of_errors = 0\n",
    "    response = requests.get(event_page_link)\n",
    "    if (response.status_code == 200):\n",
    "        res = []\n",
    "        tree = lxml.html.fromstring(response.text)\n",
    "        containers = tree.xpath('//div[contains(@class, \"question\")]')\n",
    "        for a in containers:\n",
    "            question = a.getchildren()[0].text_content()\n",
    "            try:\n",
    "                answer = a.getchildren()[1].getchildren()[1].text_content()            \n",
    "            except:\n",
    "                num_of_errors = num_of_errors + 1\n",
    "                answer = ''\n",
    "            tuple_ans = (question, answer)\n",
    "            res.append(tuple_ans)\n",
    "    if num_of_errors>0:\n",
    "        print(f\"На странице {event_page_link} было {num_of_errors} ошибок\")\n",
    "    return res"
   ]
  },
  {
   "cell_type": "code",
   "execution_count": 3,
   "metadata": {},
   "outputs": [],
   "source": [
    "def parse_to_db(db_dir):\n",
    "    page_num = 0\n",
    "    link = ''\n",
    "    conn = sqlite3.connect(db_dir)\n",
    "    c = conn.cursor()\n",
    "\n",
    "    c.execute('''CREATE TABLE www\n",
    "                 (questions, answers)''')\n",
    "\n",
    "    while link != 'https://db.chgk.info/tour/sanbel00':\n",
    "        print(f\"Обрабатывается {page_num} страница.\")\n",
    "        page_url = 'https://db.chgk.info/last?page=' + str(page_num)\n",
    "        urls = parse_page(page_url)\n",
    "        for url in urls:\n",
    "            results = parse_event(url)\n",
    "            c.executemany('INSERT INTO www VALUES (?,?)', results)        \n",
    "        link = urls[-1]\n",
    "        page_num = page_num + 1\n",
    "    conn.commit()\n",
    "    conn.close()"
   ]
  }
 ],
 "metadata": {
  "kernelspec": {
   "display_name": "Python 3",
   "language": "python",
   "name": "python3"
  },
  "language_info": {
   "codemirror_mode": {
    "name": "ipython",
    "version": 3
   },
   "file_extension": ".py",
   "mimetype": "text/x-python",
   "name": "python",
   "nbconvert_exporter": "python",
   "pygments_lexer": "ipython3",
   "version": "3.6.3"
  }
 },
 "nbformat": 4,
 "nbformat_minor": 1
}
